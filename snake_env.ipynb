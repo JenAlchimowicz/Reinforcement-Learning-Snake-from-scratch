{
 "cells": [
  {
   "cell_type": "markdown",
   "id": "42c44245",
   "metadata": {},
   "source": [
    "**Main sources:**\n",
    "\n",
    "https://github.com/grantsrb/Gym-Snake\n",
    "\n",
    "https://www.youtube.com/watch?v=5Vy5Dxu7vDs\n",
    "\n",
    "https://github.com/nicknochnack/OpenAI-Reinforcement-Learning-with-Custom-Environment/blob/main/OpenAI%20Custom%20Environment%20Reinforcement%20Learning.ipynb"
   ]
  },
  {
   "cell_type": "code",
   "execution_count": 1,
   "id": "5cf3ff2f",
   "metadata": {},
   "outputs": [],
   "source": [
    "from gym import Env\n",
    "from gym.spaces import Discrete, Box\n",
    "import numpy as np\n",
    "import random"
   ]
  },
  {
   "cell_type": "markdown",
   "id": "72f420e1",
   "metadata": {},
   "source": [
    "# Create snake environment"
   ]
  },
  {
   "cell_type": "code",
   "execution_count": null,
   "id": "4000d200",
   "metadata": {},
   "outputs": [],
   "source": [
    "class SnakeEnv(Env):\n",
    "    def __init__(self):\n",
    "        pass\n",
    "        \n",
    "    def step(self, action):\n",
    "        pass\n",
    "#         return self.state, reward, done, info\n",
    "\n",
    "    def render(self):\n",
    "        pass\n",
    "    \n",
    "    def reset(self):\n",
    "        pass\n",
    "#         return self.state\n",
    "    "
   ]
  },
  {
   "cell_type": "code",
   "execution_count": 99,
   "id": "1bee17d3",
   "metadata": {},
   "outputs": [],
   "source": [
    "class Grid():\n",
    "    \n",
    "    BODY_COLOR  = np.array([1,0,0], dtype=np.uint8)\n",
    "    HEAD_COLOR  = np.array([255, 0, 0], dtype=np.uint8)\n",
    "    FOOD_COLOR  = np.array([3,0,255], dtype=np.uint8)\n",
    "    SPACE_COLOR = np.array([0,255,0], dtype=np.uint8)\n",
    "    WALL_COLOR  = np.array([5,100,0], dtype=np.uint8)\n",
    "    \n",
    "    def __init__(self, grid_size=[30,30], unit_size=10, unit_gap=1):\n",
    "        \n",
    "        self.grid_size = np.asarray(grid_size, dtype=np.int)\n",
    "        self.height = self.grid_size[0]\n",
    "        self.width = self.grid_size[1]\n",
    "        \n",
    "        self.grid = np.zeros((self.height, self.width, 3), dtype=np.uint8)\n",
    "        self.grid[:,:,:] = self.SPACE_COLOR\n",
    "        self.grid[:,0,:] = self.WALL_COLOR\n",
    "        self.grid[:,-1,:] = self.WALL_COLOR\n",
    "        self.grid[0,:,:] = self.WALL_COLOR\n",
    "        self.grid[-1,:,:] = self.WALL_COLOR\n",
    "    \n",
    "    def get_color(self, coor):\n",
    "        return self.grid[coor[0], coor[1], :]\n",
    "    \n",
    "    def check_death(self, snake_coor):\n",
    "        \n",
    "        # where snake wants to go\n",
    "        square_color = get_color(snake_coor[0])\n",
    "        \n",
    "        # head in wall or in body\n",
    "        if square_color == self.WALL_COLOR or square_color == self.BODY_COLOR:\n",
    "            return True\n",
    "        \n",
    "    def place_food(self, coor):\n",
    "        self.grid[coor[0], coor[1], :] = self.FOOD_COLOR\n",
    "        \n",
    "    def erase_cell(self, coor):\n",
    "        self.grid[coor[0], coor[1], :] = self.SPACE_COLOR\n",
    "        \n",
    "    def draw_snake(self, Snake_c):\n",
    "        head = Snake_c.head\n",
    "        body = Snake_c.body\n",
    "        \n",
    "        # draw head\n",
    "        self.grid[head[0], head[1], :] = self.HEAD_COLOR\n",
    "        #draw body\n",
    "        for coor in body:\n",
    "            self.grid[coor[0], coor[1], :] = self.BODY_COLOR\n",
    "        \n",
    "        "
   ]
  },
  {
   "cell_type": "code",
   "execution_count": 116,
   "id": "41096efe",
   "metadata": {},
   "outputs": [],
   "source": [
    "class Snake():\n",
    "    \n",
    "    UP = 0\n",
    "    DOWN = 1\n",
    "    LEFT = 2\n",
    "    RIGHT = 3\n",
    "    \n",
    "    def __init__(self, init_coor=[4,2], init_len=3):\n",
    "        # note: possible to initialize with error, leave defaults for now\n",
    "        self.head = init_coor\n",
    "        self.direction = self.DOWN\n",
    "        self.body = list()\n",
    "        for i in range(1,init_len):\n",
    "            self.body.append([self.head[0]-i, self.head[1]])\n",
    "            \n",
    "        \n",
    "        def action(self, action):\n",
    "            #ACTIONS\n",
    "            # straight = 0\n",
    "            # left = 1\n",
    "            # right = 2\n",
    "            \n",
    "            # GET NEXT DIRECTION FROM ACTION\n",
    "            clock_wise_dir = [self.UP, self.RIGHT, self.DOWN, self.LEFT]\n",
    "            curr_dir_idx = clock_wise_dir.index(self.direction)\n",
    "            \n",
    "            #no turn\n",
    "            if action == 0:\n",
    "                next_dir = self.direction #no change\n",
    "            # left turn\n",
    "            elif action == 1:\n",
    "                next_dir = clock_wise_dir[curr_dir_idx - 1] % 4  # -1%4=3, so we go to the other end of list\n",
    "            # right turn\n",
    "            elif action == 2:\n",
    "                next_dir = clock_wise_dir[curr_dir_idx + 1] % 4  # 4%4=0, so we go to the other end of list\n",
    "                \n",
    "                \n",
    "            # EXECUTE TURN\n",
    "            # add head to body\n",
    "            self.body.append(self.head)\n",
    "            \n",
    "            # move head\n",
    "            if next_dir == self.UP:\n",
    "                self.head[0] -= 1  #remember top left is [0,0]\n",
    "            elif next_dir == self.DOWN:\n",
    "                self.head[0] += 1\n",
    "            elif nex_dir == self.RIGHT:\n",
    "                self.head[1] += 1\n",
    "            elif nex_dir == self.LEFT:\n",
    "                self.head[1] -= 1\n",
    "                \n",
    "        # removes the last element from the body\n",
    "        def pop_tail(self):\n",
    "            slef.body.pop(0)\n",
    "                \n",
    "        \n"
   ]
  },
  {
   "cell_type": "code",
   "execution_count": 117,
   "id": "dfc5a648",
   "metadata": {},
   "outputs": [],
   "source": [
    "env = Grid(grid_size=[10,10])\n",
    "snake = Snake()"
   ]
  },
  {
   "cell_type": "code",
   "execution_count": 118,
   "id": "edb91893",
   "metadata": {},
   "outputs": [
    {
     "data": {
      "text/plain": [
       "[4, 2]"
      ]
     },
     "execution_count": 118,
     "metadata": {},
     "output_type": "execute_result"
    }
   ],
   "source": [
    "snake.head"
   ]
  },
  {
   "cell_type": "code",
   "execution_count": 119,
   "id": "bcb4ef08",
   "metadata": {},
   "outputs": [
    {
     "data": {
      "text/plain": [
       "[[3, 2], [2, 2]]"
      ]
     },
     "execution_count": 119,
     "metadata": {},
     "output_type": "execute_result"
    }
   ],
   "source": [
    "snake.body"
   ]
  },
  {
   "cell_type": "code",
   "execution_count": 120,
   "id": "bf1cc816",
   "metadata": {},
   "outputs": [],
   "source": [
    "env.draw_snake(snake)"
   ]
  },
  {
   "cell_type": "code",
   "execution_count": 121,
   "id": "8dca8119",
   "metadata": {},
   "outputs": [],
   "source": [
    "env.place_food([6,6])"
   ]
  },
  {
   "cell_type": "code",
   "execution_count": 122,
   "id": "90b7abc3",
   "metadata": {},
   "outputs": [
    {
     "data": {
      "text/plain": [
       "array([[  5,   5,   5,   5,   5,   5,   5,   5,   5,   5],\n",
       "       [  5,   0,   0,   0,   0,   0,   0,   0,   0,   5],\n",
       "       [  5,   0,   1,   0,   0,   0,   0,   0,   0,   5],\n",
       "       [  5,   0,   1,   0,   0,   0,   0,   0,   0,   5],\n",
       "       [  5,   0, 255,   0,   0,   0,   0,   0,   0,   5],\n",
       "       [  5,   0,   0,   0,   0,   0,   0,   0,   0,   5],\n",
       "       [  5,   0,   0,   0,   0,   0,   3,   0,   0,   5],\n",
       "       [  5,   0,   0,   0,   0,   0,   0,   0,   0,   5],\n",
       "       [  5,   0,   0,   0,   0,   0,   0,   0,   0,   5],\n",
       "       [  5,   5,   5,   5,   5,   5,   5,   5,   5,   5]], dtype=uint8)"
      ]
     },
     "execution_count": 122,
     "metadata": {},
     "output_type": "execute_result"
    }
   ],
   "source": [
    "env.grid[:,:,0]"
   ]
  },
  {
   "cell_type": "code",
   "execution_count": null,
   "id": "3a0b3a91",
   "metadata": {},
   "outputs": [],
   "source": []
  },
  {
   "cell_type": "code",
   "execution_count": null,
   "id": "53ba00c7",
   "metadata": {},
   "outputs": [],
   "source": []
  },
  {
   "cell_type": "markdown",
   "id": "73d71406",
   "metadata": {},
   "source": [
    "# Create agent"
   ]
  },
  {
   "cell_type": "code",
   "execution_count": null,
   "id": "07f7ea5d",
   "metadata": {},
   "outputs": [],
   "source": []
  },
  {
   "cell_type": "code",
   "execution_count": null,
   "id": "a4e725bf",
   "metadata": {},
   "outputs": [],
   "source": []
  },
  {
   "cell_type": "markdown",
   "id": "d18563ef",
   "metadata": {},
   "source": [
    "# Train"
   ]
  },
  {
   "cell_type": "code",
   "execution_count": null,
   "id": "f5c63900",
   "metadata": {},
   "outputs": [],
   "source": []
  },
  {
   "cell_type": "code",
   "execution_count": null,
   "id": "409dedf7",
   "metadata": {},
   "outputs": [],
   "source": []
  },
  {
   "cell_type": "markdown",
   "id": "81e38a7f",
   "metadata": {},
   "source": [
    "# Test agent"
   ]
  },
  {
   "cell_type": "code",
   "execution_count": null,
   "id": "d1bf4358",
   "metadata": {},
   "outputs": [],
   "source": []
  },
  {
   "cell_type": "code",
   "execution_count": null,
   "id": "85d1ed60",
   "metadata": {},
   "outputs": [],
   "source": []
  }
 ],
 "metadata": {
  "kernelspec": {
   "display_name": "Python 3",
   "language": "python",
   "name": "python3"
  },
  "language_info": {
   "codemirror_mode": {
    "name": "ipython",
    "version": 3
   },
   "file_extension": ".py",
   "mimetype": "text/x-python",
   "name": "python",
   "nbconvert_exporter": "python",
   "pygments_lexer": "ipython3",
   "version": "3.8.8"
  }
 },
 "nbformat": 4,
 "nbformat_minor": 5
}
