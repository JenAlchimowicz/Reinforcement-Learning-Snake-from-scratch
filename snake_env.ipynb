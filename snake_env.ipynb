{
 "cells": [
  {
   "cell_type": "markdown",
   "id": "c19a5008",
   "metadata": {},
   "source": [
    "**Main sources:**\n",
    "\n",
    "https://github.com/grantsrb/Gym-Snake\n",
    "\n",
    "https://www.youtube.com/watch?v=5Vy5Dxu7vDs\n",
    "\n",
    "https://github.com/nicknochnack/OpenAI-Reinforcement-Learning-with-Custom-Environment/blob/main/OpenAI%20Custom%20Environment%20Reinforcement%20Learning.ipynb"
   ]
  },
  {
   "cell_type": "code",
   "execution_count": 123,
   "id": "d81d1c7d",
   "metadata": {},
   "outputs": [],
   "source": [
    "from gym import Env\n",
    "from gym.spaces import Discrete, Box\n",
    "import numpy as np\n",
    "import random"
   ]
  },
  {
   "cell_type": "markdown",
   "id": "16009d6a",
   "metadata": {},
   "source": [
    "# Create snake environment"
   ]
  },
  {
   "cell_type": "code",
   "execution_count": 243,
   "id": "27aac7ff",
   "metadata": {},
   "outputs": [],
   "source": [
    "class SnakeEnv(Env):\n",
    "    def __init__(self):\n",
    "        pass\n",
    "        \n",
    "    def step(self, action):\n",
    "        pass\n",
    "\n",
    "    def render(self):\n",
    "        pass\n",
    "    \n",
    "    def reset(self):\n",
    "        pass\n",
    "#         return self.state\n",
    "    "
   ]
  },
  {
   "cell_type": "code",
   "execution_count": 252,
   "id": "f0c2c10f",
   "metadata": {},
   "outputs": [
    {
     "data": {
      "text/plain": [
       "array([0, 0, 0, 0, 0, 0, 0, 0, 0, 0, 0, 0], dtype=uint8)"
      ]
     },
     "execution_count": 252,
     "metadata": {},
     "output_type": "execute_result"
    }
   ],
   "source": []
  },
  {
   "cell_type": "code",
   "execution_count": null,
   "id": "61a76b52",
   "metadata": {},
   "outputs": [],
   "source": [
    "class Controller():\n",
    "    \n",
    "    def __init__(self):\n",
    "        self.grid = Grid()\n",
    "        self.snake = Snake()\n",
    "        self.done = False\n",
    "    \n",
    "    def step(self):\n",
    "        # move snake\n",
    "        snake.move(action)\n",
    "\n",
    "        # check death\n",
    "        if env.check_death(snake):\n",
    "            self.done = True\n",
    "            reward = -20\n",
    "\n",
    "        # check reward (delete tail if no reward) + (palce food if food eaten)\n",
    "        if env.check_food_eaten(snake):\n",
    "            reward = 10\n",
    "            env.place_food()\n",
    "        else:\n",
    "            reward = 0\n",
    "            snake.pop_tail()\n",
    "\n",
    "        # get state\n",
    "        self.state = env.get_state()\n",
    "    \n",
    "#         return self.state, reward, done, info\n",
    "    \n",
    "    def get_state():\n",
    "        \n",
    "        state = np.zeros(12, dtype=np.uint8)\n",
    "        \n",
    "        # Get direction\n",
    "        direction = self.snake.direction\n",
    "        state[direction] = 1\n",
    "        \n",
    "        # Get food direction\n",
    "        food_relative_to_head = env.get_food_dir(snake) # returns [0,0,1,1]\n",
    "        \n",
    "        \n",
    "#       need to return (moving direction, 0, 1, 2, 3; UP, DOWN, LEFT, RIGHT\n",
    "#                       reward direction, 0, 1, 2, 3; UP, DOWN, LEFT, RIGHT\n",
    "#                       danger, 0, 1, 2; STRAIGHT, LEFT, RIGHT) \n",
    "        \n",
    "        "
   ]
  },
  {
   "cell_type": "code",
   "execution_count": 277,
   "id": "ba3915e2",
   "metadata": {},
   "outputs": [],
   "source": [
    "class Grid():\n",
    "    \n",
    "    BODY_COLOR  = np.array([1,0,0], dtype=np.uint8)\n",
    "    HEAD_COLOR  = np.array([255, 0, 0], dtype=np.uint8)\n",
    "    FOOD_COLOR  = np.array([3,0,255], dtype=np.uint8)\n",
    "    SPACE_COLOR = np.array([0,255,0], dtype=np.uint8)\n",
    "    WALL_COLOR  = np.array([5,100,0], dtype=np.uint8)\n",
    "    \n",
    "    def __init__(self, grid_size=[30,30], unit_size=10, unit_gap=1):\n",
    "        \n",
    "        self.grid_size = np.asarray(grid_size, dtype=np.int)\n",
    "        self.height = self.grid_size[0]\n",
    "        self.width = self.grid_size[1]\n",
    "        \n",
    "        self.grid = np.zeros((self.height, self.width, 3), dtype=np.uint8)\n",
    "        self.grid[:,:,:]  = self.SPACE_COLOR\n",
    "        self.grid[:,0,:]  = self.WALL_COLOR\n",
    "        self.grid[:,-1,:] = self.WALL_COLOR\n",
    "        self.grid[0,:,:]  = self.WALL_COLOR\n",
    "        self.grid[-1,:,:] = self.WALL_COLOR\n",
    "    \n",
    "    def get_color(self, coor):\n",
    "        return self.grid[coor[0], coor[1], :]\n",
    "    \n",
    "    def check_death(self, Snake_c):\n",
    "        \n",
    "        # where snake wants to go\n",
    "        square_color = get_color(Snake_c.head)\n",
    "        \n",
    "        # head in wall or in body\n",
    "        if square_color == self.WALL_COLOR or square_color == self.BODY_COLOR:\n",
    "            return True\n",
    "        \n",
    "    def check_food_eaten(self, Snake_c):\n",
    "        \n",
    "        # where snake wants to go\n",
    "        square_color = get_color(Snake_c.head)\n",
    "        \n",
    "        # head in wall or in body\n",
    "        if square_color == self.FOOD_COLOR:\n",
    "            return True\n",
    "        \n",
    "#     def place_food(self, coor):\n",
    "#         # check if space is empty - while true\n",
    "#         self.grid[coor[0], coor[1], :] = self.FOOD_COLOR\n",
    "\n",
    "    def place_food_random(self):\n",
    "        \n",
    "        while True:\n",
    "            new_x = np.random.randint(1, self.height-1)\n",
    "            new_y = np.random.randint(1, self.width-1)\n",
    "            \n",
    "            if np.array_equal(self.grid[new_x, new_y, :], self.SPACE_COLOR):\n",
    "                #place food\n",
    "                self.grid[new_x, new_y, :] = self.FOOD_COLOR\n",
    "                break\n",
    "        \n",
    "    def erase_cell(self, coor):\n",
    "        self.grid[coor[0], coor[1], :] = self.SPACE_COLOR\n",
    "        \n",
    "    def draw_snake(self, Snake_c):\n",
    "        head = Snake_c.head\n",
    "        body = Snake_c.body\n",
    "        \n",
    "        # draw head\n",
    "        self.grid[head[0], head[1], :] = self.HEAD_COLOR\n",
    "        #draw body\n",
    "        for coor in body:\n",
    "            self.grid[coor[0], coor[1], :] = self.BODY_COLOR\n",
    "            \n",
    "    def get_food_direction(self, Snake_c):\n",
    "        # reward direction, 0, 1, 2, 3; UP, DOWN, LEFT, RIGHT\n",
    "        \n",
    "        head = Snake_c.haed\n",
    "        \n",
    "        # X coor <- get UP or DOWN or SAME LEVEL\n",
    "#         if head[0] <\n",
    "            \n",
    "        \n",
    "        "
   ]
  },
  {
   "cell_type": "code",
   "execution_count": 378,
   "id": "003f9a14",
   "metadata": {},
   "outputs": [],
   "source": [
    "class Snake():\n",
    "    \n",
    "    UP = 0\n",
    "    DOWN = 1\n",
    "    LEFT = 2\n",
    "    RIGHT = 3\n",
    "    \n",
    "    def __init__(self, init_coor=[4,2], init_len=3):\n",
    "        # note: possible to initialize with error, leave defaults for now\n",
    "        self.head = init_coor\n",
    "        self.direction = self.DOWN\n",
    "        self.body = list()\n",
    "        for i in reversed(range(1,init_len)):\n",
    "            self.body.append([self.head[0]-i, self.head[1]])\n",
    "            \n",
    "        \n",
    "    def move(self, action):\n",
    "        #ACTIONS\n",
    "        # straight = 0\n",
    "        # left = 1\n",
    "        # right = 2\n",
    "\n",
    "        # GET NEXT DIRECTION FROM ACTION\n",
    "        clock_wise_dir = [self.UP, self.RIGHT, self.DOWN, self.LEFT]\n",
    "        curr_dir_idx = clock_wise_dir.index(self.direction)\n",
    "\n",
    "        #no turn\n",
    "        if action == 0:\n",
    "            next_dir = self.direction #no change\n",
    "        # left turn\n",
    "        elif action == 1:\n",
    "            next_dir = clock_wise_dir[curr_dir_idx - 1] % 4  # -1%4=3, so we go to the other end of list\n",
    "        # right turn\n",
    "        elif action == 2:\n",
    "            next_dir = clock_wise_dir[curr_dir_idx + 1] % 4  # 4%4=0, so we go to the other end of list\n",
    "        \n",
    "        # update the direction\n",
    "        self.direction = next_dir\n",
    "\n",
    "        # EXECUTE TURN\n",
    "        # add head to body\n",
    "        self.body.append(self.head.copy())\n",
    "\n",
    "        # move head\n",
    "        if next_dir == self.UP:\n",
    "            self.head[0] -= 1  #remember top left is [0,0]\n",
    "        elif next_dir == self.DOWN:\n",
    "            self.head[0] += 1\n",
    "        elif next_dir == self.RIGHT:\n",
    "            self.head[1] += 1\n",
    "        elif next_dir == self.LEFT:\n",
    "            self.head[1] -= 1\n",
    "\n",
    "    # removes the last element from the body\n",
    "    def pop_tail(self):\n",
    "        self.body.pop(0)\n",
    "                \n",
    "        \n"
   ]
  },
  {
   "cell_type": "code",
   "execution_count": 379,
   "id": "0e386f00",
   "metadata": {},
   "outputs": [],
   "source": [
    "env = Grid(grid_size=[10,10])\n",
    "snake = Snake()"
   ]
  },
  {
   "cell_type": "code",
   "execution_count": 380,
   "id": "7cd41abf",
   "metadata": {},
   "outputs": [
    {
     "data": {
      "text/plain": [
       "[4, 2]"
      ]
     },
     "execution_count": 380,
     "metadata": {},
     "output_type": "execute_result"
    }
   ],
   "source": [
    "snake.head"
   ]
  },
  {
   "cell_type": "code",
   "execution_count": 381,
   "id": "bcaa4b67",
   "metadata": {},
   "outputs": [
    {
     "data": {
      "text/plain": [
       "[[2, 2], [3, 2]]"
      ]
     },
     "execution_count": 381,
     "metadata": {},
     "output_type": "execute_result"
    }
   ],
   "source": [
    "snake.body"
   ]
  },
  {
   "cell_type": "code",
   "execution_count": 382,
   "id": "b1512c49",
   "metadata": {},
   "outputs": [
    {
     "data": {
      "text/plain": [
       "array([[  5,   5,   5,   5,   5,   5,   5,   5,   5,   5],\n",
       "       [  5,   0,   0,   0,   0,   0,   0,   0,   0,   5],\n",
       "       [  5,   0,   1,   0,   0,   0,   0,   0,   0,   5],\n",
       "       [  5,   0,   1,   3,   0,   0,   0,   0,   0,   5],\n",
       "       [  5,   0, 255,   0,   0,   0,   0,   0,   0,   5],\n",
       "       [  5,   0,   0,   0,   0,   0,   0,   0,   0,   5],\n",
       "       [  5,   0,   0,   0,   0,   0,   0,   0,   0,   5],\n",
       "       [  5,   0,   0,   0,   0,   0,   0,   0,   0,   5],\n",
       "       [  5,   0,   0,   0,   0,   0,   0,   0,   0,   5],\n",
       "       [  5,   5,   5,   5,   5,   5,   5,   5,   5,   5]], dtype=uint8)"
      ]
     },
     "execution_count": 382,
     "metadata": {},
     "output_type": "execute_result"
    }
   ],
   "source": [
    "env.draw_snake(snake)\n",
    "env.place_food_random()\n",
    "env.grid[:,:,0]"
   ]
  },
  {
   "cell_type": "code",
   "execution_count": 383,
   "id": "ca0500cb",
   "metadata": {},
   "outputs": [],
   "source": [
    "snake.move(1)"
   ]
  },
  {
   "cell_type": "code",
   "execution_count": 384,
   "id": "4a2ec560",
   "metadata": {},
   "outputs": [
    {
     "data": {
      "text/plain": [
       "[4, 3]"
      ]
     },
     "execution_count": 384,
     "metadata": {},
     "output_type": "execute_result"
    }
   ],
   "source": [
    "snake.head"
   ]
  },
  {
   "cell_type": "code",
   "execution_count": 385,
   "id": "512ee1a4",
   "metadata": {},
   "outputs": [
    {
     "data": {
      "text/plain": [
       "[[2, 2], [3, 2], [4, 2]]"
      ]
     },
     "execution_count": 385,
     "metadata": {},
     "output_type": "execute_result"
    }
   ],
   "source": [
    "snake.body"
   ]
  },
  {
   "cell_type": "code",
   "execution_count": 386,
   "id": "3170fe49",
   "metadata": {},
   "outputs": [
    {
     "data": {
      "text/plain": [
       "array([[  5,   5,   5,   5,   5,   5,   5,   5,   5,   5],\n",
       "       [  5,   0,   0,   0,   0,   0,   0,   0,   0,   5],\n",
       "       [  5,   0,   0,   0,   0,   0,   0,   0,   0,   5],\n",
       "       [  5,   0,   1,   3,   0,   0,   0,   0,   0,   5],\n",
       "       [  5,   0,   1, 255,   0,   0,   0,   0,   0,   5],\n",
       "       [  5,   0,   0,   0,   0,   0,   0,   0,   0,   5],\n",
       "       [  5,   0,   0,   0,   0,   0,   0,   0,   0,   5],\n",
       "       [  5,   0,   0,   0,   0,   0,   0,   0,   0,   5],\n",
       "       [  5,   0,   0,   0,   0,   0,   0,   0,   0,   5],\n",
       "       [  5,   5,   5,   5,   5,   5,   5,   5,   5,   5]], dtype=uint8)"
      ]
     },
     "execution_count": 386,
     "metadata": {},
     "output_type": "execute_result"
    }
   ],
   "source": [
    "env.erase_cell(snake.body[0])\n",
    "snake.pop_tail()\n",
    "env.draw_snake(snake)\n",
    "env.grid[:,:,0]"
   ]
  },
  {
   "cell_type": "code",
   "execution_count": null,
   "id": "1bb9cb72",
   "metadata": {},
   "outputs": [],
   "source": []
  },
  {
   "cell_type": "markdown",
   "id": "f3a95bf7",
   "metadata": {},
   "source": [
    "# Create agent"
   ]
  },
  {
   "cell_type": "code",
   "execution_count": null,
   "id": "cc40ce6b",
   "metadata": {},
   "outputs": [],
   "source": []
  },
  {
   "cell_type": "code",
   "execution_count": null,
   "id": "c0519bd9",
   "metadata": {},
   "outputs": [],
   "source": []
  },
  {
   "cell_type": "markdown",
   "id": "cd4c26c8",
   "metadata": {},
   "source": [
    "# Train"
   ]
  },
  {
   "cell_type": "code",
   "execution_count": null,
   "id": "0a1ad99f",
   "metadata": {},
   "outputs": [],
   "source": []
  },
  {
   "cell_type": "code",
   "execution_count": null,
   "id": "0b5c0daf",
   "metadata": {},
   "outputs": [],
   "source": []
  },
  {
   "cell_type": "markdown",
   "id": "0899f299",
   "metadata": {},
   "source": [
    "# Test agent"
   ]
  },
  {
   "cell_type": "code",
   "execution_count": null,
   "id": "ba92b082",
   "metadata": {},
   "outputs": [],
   "source": []
  },
  {
   "cell_type": "code",
   "execution_count": null,
   "id": "057c0c12",
   "metadata": {},
   "outputs": [],
   "source": []
  }
 ],
 "metadata": {
  "kernelspec": {
   "display_name": "Python 3",
   "language": "python",
   "name": "python3"
  },
  "language_info": {
   "codemirror_mode": {
    "name": "ipython",
    "version": 3
   },
   "file_extension": ".py",
   "mimetype": "text/x-python",
   "name": "python",
   "nbconvert_exporter": "python",
   "pygments_lexer": "ipython3",
   "version": "3.8.8"
  }
 },
 "nbformat": 4,
 "nbformat_minor": 5
}
